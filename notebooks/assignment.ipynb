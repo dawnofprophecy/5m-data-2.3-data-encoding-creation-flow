{
 "cells": [
  {
   "cell_type": "markdown",
   "id": "cd804af5",
   "metadata": {},
   "source": [
    "# Assignment\n",
    "\n",
    "## Brief\n",
    "\n",
    "Write the Python codes for the following questions.\n",
    "\n",
    "## Instructions\n",
    "\n",
    "Paste the answer as Python in the answer code section below each question."
   ]
  },
  {
   "cell_type": "markdown",
   "id": "0b4990e0",
   "metadata": {},
   "source": [
    "### Question 1\n",
    "\n",
    "Question: Implement a simple Thrift server and client that defines a `Student` struct with fields `name` (string), `age` (integer), and `courses` (list of strings). Include a service `School` with a method `enrollCourse` that takes a `Student` record and a course name, adds the course to the student's course list, and returns the updated `Student` record.\n",
    "\n",
    "Answer:"
   ]
  },
  {
   "cell_type": "markdown",
   "id": "d3c87455",
   "metadata": {},
   "source": [
    "#### Thrift schema (student.thrift)"
   ]
  },
  {
   "cell_type": "code",
   "execution_count": 4,
   "id": "acb72748",
   "metadata": {},
   "outputs": [
    {
     "name": "stdout",
     "output_type": "stream",
     "text": [
      "Overwriting ../schema/student.thrift\n"
     ]
    }
   ],
   "source": [
    "%%writefile ../schema/student.thrift\n",
    "\n",
    "struct Student {\n",
    "  1: required string userName,\n",
    "  2: optional i64 age,\n",
    "  3: optional list<string> courses\n",
    "}\n",
    "\n",
    "service School {\n",
    "    Student enrollCourse(1: required Student student, 2: required string course)\n",
    "}"
   ]
  },
  {
   "cell_type": "markdown",
   "id": "3ed75a51",
   "metadata": {},
   "source": [
    "#### Thrift server (student_server.py)"
   ]
  },
  {
   "cell_type": "code",
   "execution_count": 5,
   "id": "5c1b6aa9",
   "metadata": {},
   "outputs": [
    {
     "name": "stdout",
     "output_type": "stream",
     "text": [
      "Overwriting ../student_server.py\n"
     ]
    }
   ],
   "source": [
    "%%writefile ../student_server.py\n",
    "import thriftpy2\n",
    "student_thrift = thriftpy2.load(\"./schema/student.thrift\", module_name=\"student_thrift\")\n",
    "\n",
    "from thriftpy2.rpc import make_server\n",
    "\n",
    "class School(object):\n",
    "    def enrollCourse(self, student, course):\n",
    "        student.courses.append(course)\n",
    "        return student\n",
    "\n",
    "server = make_server(student_thrift.School, School(), client_timeout=None)\n",
    "server.serve()"
   ]
  },
  {
   "cell_type": "markdown",
   "id": "9f7c8c18",
   "metadata": {},
   "source": [
    "Then, run `python student_server.py` in a new terminal. This will start the server."
   ]
  },
  {
   "cell_type": "markdown",
   "id": "de9e2786",
   "metadata": {},
   "source": [
    "#### Thrift client (student_client.py)"
   ]
  },
  {
   "cell_type": "code",
   "execution_count": 6,
   "id": "973242b2",
   "metadata": {},
   "outputs": [],
   "source": [
    "import thriftpy2\n",
    "student_thrift = thriftpy2.load(\"../schema/student.thrift\", module_name=\"student_thrift\")\n",
    "\n",
    "from thriftpy2.rpc import make_client\n",
    "\n",
    "school = make_client(student_thrift.School, timeout=None)"
   ]
  },
  {
   "cell_type": "code",
   "execution_count": 8,
   "id": "31352796",
   "metadata": {},
   "outputs": [],
   "source": [
    "martin = student_thrift.Student(\n",
    "    userName=\"Martin\", age=14, courses=[\"history\", \"math\"]\n",
    ")"
   ]
  },
  {
   "cell_type": "code",
   "execution_count": 9,
   "id": "6efa4890",
   "metadata": {},
   "outputs": [
    {
     "data": {
      "text/plain": [
       "['history', 'math']"
      ]
     },
     "execution_count": 9,
     "metadata": {},
     "output_type": "execute_result"
    }
   ],
   "source": [
    "martin.courses"
   ]
  },
  {
   "cell_type": "markdown",
   "id": "41b147e6",
   "metadata": {},
   "source": [
    "### Question 2\n",
    "\n",
    "Question: Implement a simple Protocol Buffers server and client that defines a `Book` message with fields `title` (string), `author` (string), and `page_count` (integer). Include a service `Library` with a method `checkoutBook` that takes a `Book` message and returns the same `Book` message.\n",
    "\n",
    "Answer:"
   ]
  },
  {
   "cell_type": "markdown",
   "id": "17ed7e07",
   "metadata": {},
   "source": [
    "#### Protobuf schema (book.proto)"
   ]
  },
  {
   "cell_type": "code",
   "execution_count": 1,
   "id": "58637e48",
   "metadata": {},
   "outputs": [
    {
     "name": "stdout",
     "output_type": "stream",
     "text": [
      "Writing ../schema/book.proto\n"
     ]
    }
   ],
   "source": [
    "%%writefile ../schema/book.proto\n",
    "syntax = \"proto3\";\n",
    "\n",
    "message Book {\n",
    "  string title = 1;\n",
    "  string author = 2;\n",
    "  int32 page_count = 3;\n",
    "}\n",
    "\n",
    "\n",
    "service Library {\n",
    "  rpc checkoutBook(Book) returns (Book) {}\n",
    "}"
   ]
  },
  {
   "cell_type": "markdown",
   "id": "e8d7e136",
   "metadata": {},
   "source": [
    "python -m grpc_tools.protoc -I./schema --python_out=. --grpc_python_out=. ./schema/book.proto"
   ]
  },
  {
   "cell_type": "markdown",
   "id": "15cae659",
   "metadata": {},
   "source": [
    "#### Protobuf server (book_server.py)"
   ]
  },
  {
   "cell_type": "code",
   "execution_count": 2,
   "id": "29d15f83",
   "metadata": {},
   "outputs": [
    {
     "name": "stdout",
     "output_type": "stream",
     "text": [
      "Writing ../book_protobuf_server.py\n"
     ]
    }
   ],
   "source": [
    "%%writefile ../book_protobuf_server.py\n",
    "import grpc\n",
    "from concurrent import futures\n",
    "\n",
    "import book_pb2 as pb\n",
    "import book_pb2_grpc as pb_grpc\n",
    "\n",
    "\n",
    "class LibraryService(pb_grpc.LibraryServicer):\n",
    "    def checkoutBook(self, request, context):\n",
    "        # A simple echo: return the same Book\n",
    "        book = pb.Book()\n",
    "        book.CopyFrom(request)\n",
    "        return book\n",
    "\n",
    "def serve():\n",
    "    server = grpc.server(futures.ThreadPoolExecutor(max_workers=4))\n",
    "    pb_grpc.add_LibraryServicer_to_server(LibraryService(), server)\n",
    "    server.add_insecure_port(\"[::]:50051\")\n",
    "    server.start()\n",
    "    print(\"Library gRPC server listening on :50051\")\n",
    "    server.wait_for_termination()\n",
    "\n",
    "if __name__ == \"__main__\":\n",
    "    serve()"
   ]
  },
  {
   "cell_type": "markdown",
   "id": "664c391a",
   "metadata": {},
   "source": [
    "python book_protobuf_server.py"
   ]
  },
  {
   "cell_type": "markdown",
   "id": "cce2482a",
   "metadata": {},
   "source": [
    "#### Protobuf client (book_client.py)"
   ]
  },
  {
   "cell_type": "code",
   "execution_count": 5,
   "id": "27d08726",
   "metadata": {},
   "outputs": [
    {
     "name": "stdout",
     "output_type": "stream",
     "text": [
      "Checked out:\n",
      "  Title      : The Folded World\n",
      "  Author     : B3\n",
      "  Page count : 312\n"
     ]
    }
   ],
   "source": [
    "import sys\n",
    "sys.path.append('..')\n",
    "import grpc\n",
    "import book_pb2 as pb\n",
    "import book_pb2_grpc as pb_grpc\n",
    "\n",
    "def run():\n",
    "    with grpc.insecure_channel(\"localhost:50051\") as channel:\n",
    "        stub = pb_grpc.LibraryStub(channel)\n",
    "        book = pb.Book(title=\"The Folded World\", author=\"B3\", page_count=312)\n",
    "        checked_out = stub.checkoutBook(book)\n",
    "        print(\"Checked out:\")\n",
    "        print(f\"  Title      : {checked_out.title}\")\n",
    "        print(f\"  Author     : {checked_out.author}\")\n",
    "        print(f\"  Page count : {checked_out.page_count}\")\n",
    "\n",
    "if __name__ == \"__main__\":\n",
    "    run()"
   ]
  },
  {
   "cell_type": "markdown",
   "id": "cc67e6f1",
   "metadata": {},
   "source": [
    "## Submission\n",
    "\n",
    "- Submit the URL of the GitHub Repository that contains your work to NTU black board.\n",
    "- Should you reference the work of your classmate(s) or online resources, give them credit by adding either the name of your classmate or URL."
   ]
  }
 ],
 "metadata": {
  "kernelspec": {
   "display_name": "bde",
   "language": "python",
   "name": "python3"
  },
  "language_info": {
   "codemirror_mode": {
    "name": "ipython",
    "version": 3
   },
   "file_extension": ".py",
   "mimetype": "text/x-python",
   "name": "python",
   "nbconvert_exporter": "python",
   "pygments_lexer": "ipython3",
   "version": "3.10.13"
  }
 },
 "nbformat": 4,
 "nbformat_minor": 5
}
